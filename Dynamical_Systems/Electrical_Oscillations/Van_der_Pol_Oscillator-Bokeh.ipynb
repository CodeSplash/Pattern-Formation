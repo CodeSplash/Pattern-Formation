{
 "cells": [
  {
   "cell_type": "markdown",
   "metadata": {},
   "source": [
    "# USING BOKEH TO RECONSTRUCT THE VAN DER POL OSCILLATIONS NUMERICALLY (ODEINT): A WORK IN PROGRESS\n",
    "SEE HERE FOR MORE INFORMATION: https://en.wikipedia.org/wiki/Van_der_Pol_oscillator\n",
    "ALSO SEE STROGATZ' BOOK 'NONLINEAR DYNAMICS AND CHAOS' (Westview Press, 2001)"
   ]
  },
  {
   "cell_type": "code",
   "execution_count": null,
   "metadata": {
    "collapsed": false
   },
   "outputs": [],
   "source": [
    "%matplotlib inline\n",
    "import numpy as np\n",
    "from scipy.integrate import odeint\n",
    "from pylab import *\n",
    "from bokeh.plotting import *\n",
    "from bokeh.models import ColumnDataSource\n",
    "#from bokeh.io import output_notebook\n",
    "\n",
    "# DEFINE A FUNCTION THAT OUTPUTS POSITION/VELOCITY TIME SERIES, \n",
    "#GIVEN AN ARRAY OF TIME POINTS (x) AND A SCALAR PARAMETER MU THAT PARAMETRIZES\n",
    "#THE NONLINEARITY AND STRENGTH OF DAMPING.\n",
    "\n",
    "def g(x,mu):\n",
    "    #A = 1\n",
    "    #B = 3\n",
    "    #DEFINE OUR SYSTEM OF DIFFERENTIAL EQUATIONS dZ/dt = f(Z, t)\n",
    "    def f(Z,t):\n",
    "        X = Z[0]\n",
    "        Y = Z[1]\n",
    "        #the model equations\n",
    "        f0 = Y\n",
    "        f1 = mu*(1-np.power(X,2))*Y - X\n",
    "        return [f0 , f1]\n",
    "    #initial conditions\n",
    "    X0 = 0.00001\n",
    "    Y0 = 0\n",
    "    Z0 = [ X0 , Y0 ]\n",
    "    #t  = np.linspace(0, 50, 1000)   # time grid\n",
    "    #Solve the DEs\n",
    "    return odeint( f , Z0 , x)\n",
    "#GENERATE THE FIRST SOLUTION\n",
    "x = np.linspace(0, 50, 1000)\n",
    "soln = g(x , 1)\n",
    "y = soln[:,0]\n",
    "z = soln[:,1]"
   ]
  },
  {
   "cell_type": "code",
   "execution_count": null,
   "metadata": {
    "collapsed": false
   },
   "outputs": [],
   "source": [
    "#LOAD THE NOTEBOOK\n",
    "output_notebook()"
   ]
  },
  {
   "cell_type": "code",
   "execution_count": null,
   "metadata": {
    "collapsed": false
   },
   "outputs": [],
   "source": [
    "#GET ALL DATA TOGETHER TO DEFINE THE 1ST PLOTS\n",
    "source = ColumnDataSource( data = dict(x=x,y=y,z=z))\n",
    "#output_file(\"lines1.html\")\n",
    "\n",
    "\n",
    "\n",
    "p1 = figure( width=350, height=350, title='position')\n",
    "p1.line('x','y', line_width = 4 , source = source )\n",
    "p1.xaxis.axis_label = 'time'\n",
    "p1.yaxis.axis_label = 'position'\n",
    "p2 = figure(width=350, height=350, title='velocity')\n",
    "p2.line('x','z', line_width = 4 , source = source , color = 'red')\n",
    "p2.xaxis.axis_label = 'time'\n",
    "p2.yaxis.axis_label = 'velocity'\n",
    "p3 = figure( width=350, height=350, title='Phase plane')\n",
    "p3.line('y','z', line_width = 2 , source = source , color = 'green')\n",
    "\n",
    "p = gridplot([[p1 , p2 ], [p3]])"
   ]
  },
  {
   "cell_type": "code",
   "execution_count": null,
   "metadata": {
    "collapsed": true
   },
   "outputs": [],
   "source": [
    "#THIS IS HOW WE UPDATE THE PLOTS\n",
    "def update(mu = 1):\n",
    "    source.data['y'] = g(x , mu)[:,0]\n",
    "    source.data['z'] = g(x , mu)[:,1]\n",
    "    source.push_notebook()"
   ]
  },
  {
   "cell_type": "code",
   "execution_count": null,
   "metadata": {
    "collapsed": false
   },
   "outputs": [],
   "source": [
    "#LETS LOOK AT THE CONCENTRATION PROFILES AND PHASE PLANE NOW \n",
    "show(p)"
   ]
  },
  {
   "cell_type": "code",
   "execution_count": null,
   "metadata": {
    "collapsed": false
   },
   "outputs": [],
   "source": [
    "#HERE WE GENERATE SOME SLIDERS THAT ALLOW US TO CHANGE THE REACTION RATES A,B ON THE FLY\n",
    "from IPython.html.widgets import interact\n",
    "interact( update , mu = (1,10,0.1))\n",
    "#output_file(\"lines1.html\")"
   ]
  },
  {
   "cell_type": "code",
   "execution_count": null,
   "metadata": {
    "collapsed": true
   },
   "outputs": [],
   "source": []
  }
 ],
 "metadata": {
  "kernelspec": {
   "display_name": "Python 2",
   "language": "python",
   "name": "python2"
  },
  "language_info": {
   "codemirror_mode": {
    "name": "ipython",
    "version": 2
   },
   "file_extension": ".py",
   "mimetype": "text/x-python",
   "name": "python",
   "nbconvert_exporter": "python",
   "pygments_lexer": "ipython2",
   "version": "2.7.10"
  }
 },
 "nbformat": 4,
 "nbformat_minor": 0
}
