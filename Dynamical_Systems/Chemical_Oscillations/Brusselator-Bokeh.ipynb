{
 "cells": [
  {
   "cell_type": "markdown",
   "metadata": {},
   "source": [
    "# USING BOKEH TO RECONSTRUCT THE BRUSSELATOR OSCILLATIONS NUMERICALLY (ODEINT): A WORK IN PROGRESS\n",
    "SEE HERE FOR MORE INFORMATION: http://www.idea.wsu.edu/OscilChem/#Brusselator%20Model"
   ]
  },
  {
   "cell_type": "code",
   "execution_count": null,
   "metadata": {
    "collapsed": false
   },
   "outputs": [],
   "source": [
    "%matplotlib inline\n",
    "import numpy as np\n",
    "from scipy.integrate import odeint\n",
    "from pylab import *\n",
    "from bokeh.plotting import *\n",
    "from bokeh.models import ColumnDataSource\n",
    "#from bokeh.io import output_notebook\n",
    "\n",
    "# DEFINE A FUNCTION THAT OUTPUTS CHEMICAL SPECIES CONCENTRATION TIME SERIES, \n",
    "#GIVEN AN ARRAY OF TIME POINTS (x) AND SOME REACTION RATES (A,B)\n",
    "\n",
    "def g(x,A,B):\n",
    "    #A = 1\n",
    "    #B = 3\n",
    "    #DEFINE OUR SYSTEM OF DIFFERENTIAL EQUATIONS dZ/dt = f(Z, t)\n",
    "    def f(Z,t):\n",
    "        X = Z[0]\n",
    "        Y = Z[1]\n",
    "        #the model equations\n",
    "        f0 = A + np.power(X,2)*Y - B*X - X\n",
    "        f1 = B*X - np.power(X,2)*Y\n",
    "        return [f0 , f1]\n",
    "    #initial conditions\n",
    "    X0 = 1\n",
    "    Y0 = 1\n",
    "    Z0 = [ X0 , Y0 ]\n",
    "    #t  = np.linspace(0, 50, 1000)   # time grid\n",
    "    #Solve the DEs\n",
    "    return odeint( f , Z0 , x)\n",
    "#GENERATE THE FIRST SOLUTION\n",
    "x = np.linspace(0, 50, 1000)\n",
    "soln = g(x , 1, 3)\n",
    "y = soln[:,0]\n",
    "z = soln[:,1]"
   ]
  },
  {
   "cell_type": "code",
   "execution_count": null,
   "metadata": {
    "collapsed": false
   },
   "outputs": [],
   "source": [
    "#LOAD THE NOTEBOOK\n",
    "output_notebook()"
   ]
  },
  {
   "cell_type": "code",
   "execution_count": null,
   "metadata": {
    "collapsed": false
   },
   "outputs": [],
   "source": [
    "#GET ALL DATA TOGETHER TO DEFINE THE 1ST PLOTS\n",
    "source = ColumnDataSource( data = dict(x=x,y=y,z=z))\n",
    "\n",
    "output_file(\"lines1.html\")\n",
    "\n",
    "\n",
    "\n",
    "p1 = figure( width=350, height=350, title='Chemical species Y')\n",
    "p1.line('x','y', line_width = 4 , source = source )\n",
    "p1.xaxis.axis_label = 'time'\n",
    "p1.yaxis.axis_label = 'concentration'\n",
    "p2 = figure(width=350, height=350, title='Chemical species Z')\n",
    "p2.line('x','z', line_width = 4 , source = source , color = 'red')\n",
    "p2.xaxis.axis_label = 'time'\n",
    "p2.yaxis.axis_label = 'concentration'\n",
    "p3 = figure( width=350, height=350, title='Phase plane')\n",
    "p3.line('y','z', line_width = 2 , source = source , color = 'green')\n",
    "\n",
    "p = gridplot([[p1 , p2 ], [p3]])"
   ]
  },
  {
   "cell_type": "code",
   "execution_count": null,
   "metadata": {
    "collapsed": true
   },
   "outputs": [],
   "source": [
    "#THIS IS HOW WE UPDATE THE PLOTS\n",
    "def update(A=1 , B =3):\n",
    "    source.data['y'] = g(x , A, B)[:,0]\n",
    "    source.data['z'] = g(x , A, B)[:,1]\n",
    "    source.push_notebook()"
   ]
  },
  {
   "cell_type": "code",
   "execution_count": null,
   "metadata": {
    "collapsed": false
   },
   "outputs": [],
   "source": [
    "#LETS LOOK AT THE CONCENTRATION PROFILES NOW\n",
    "show(p)"
   ]
  },
  {
   "cell_type": "code",
   "execution_count": null,
   "metadata": {
    "collapsed": false
   },
   "outputs": [],
   "source": [
    "#HERE WE GENERATE SOME SLIDERS THAT ALLOW US TO CHANGE THE REACTION RATES A,B ON THE FLY\n",
    "from IPython.html.widgets import interact\n",
    "interact( update , A = (1,5,0.1), B = (2,10,0.1))\n",
    "#output_file(\"lines1.html\")"
   ]
  },
  {
   "cell_type": "code",
   "execution_count": null,
   "metadata": {
    "collapsed": true
   },
   "outputs": [],
   "source": []
  },
  {
   "cell_type": "code",
   "execution_count": 2,
   "metadata": {
    "collapsed": false
   },
   "outputs": [
    {
     "ename": "NameError",
     "evalue": "name 'CustomJS' is not defined",
     "output_type": "error",
     "traceback": [
      "\u001b[0;31m---------------------------------------------------------------------------\u001b[0m",
      "\u001b[0;31mNameError\u001b[0m                                 Traceback (most recent call last)",
      "\u001b[0;32m<ipython-input-2-3f9348734370>\u001b[0m in \u001b[0;36m<module>\u001b[0;34m()\u001b[0m\n\u001b[1;32m     14\u001b[0m \u001b[0mplot\u001b[0m\u001b[0;34m.\u001b[0m\u001b[0mline\u001b[0m\u001b[0;34m(\u001b[0m\u001b[0;34m'x'\u001b[0m\u001b[0;34m,\u001b[0m \u001b[0;34m'y'\u001b[0m\u001b[0;34m,\u001b[0m \u001b[0msource\u001b[0m\u001b[0;34m=\u001b[0m\u001b[0msource\u001b[0m\u001b[0;34m,\u001b[0m \u001b[0mline_width\u001b[0m\u001b[0;34m=\u001b[0m\u001b[0;36m3\u001b[0m\u001b[0;34m,\u001b[0m \u001b[0mline_alpha\u001b[0m\u001b[0;34m=\u001b[0m\u001b[0;36m0.6\u001b[0m\u001b[0;34m)\u001b[0m\u001b[0;34m\u001b[0m\u001b[0m\n\u001b[1;32m     15\u001b[0m \u001b[0;34m\u001b[0m\u001b[0m\n\u001b[0;32m---> 16\u001b[0;31m callback = CustomJS(args=dict(source=source), code=\"\"\"\n\u001b[0m\u001b[1;32m     17\u001b[0m         \u001b[0mvar\u001b[0m \u001b[0mdata\u001b[0m \u001b[0;34m=\u001b[0m \u001b[0msource\u001b[0m\u001b[0;34m.\u001b[0m\u001b[0mget\u001b[0m\u001b[0;34m(\u001b[0m\u001b[0;34m'data'\u001b[0m\u001b[0;34m)\u001b[0m\u001b[0;34m;\u001b[0m\u001b[0;34m\u001b[0m\u001b[0m\n\u001b[1;32m     18\u001b[0m         \u001b[0mvar\u001b[0m \u001b[0mf\u001b[0m \u001b[0;34m=\u001b[0m \u001b[0mcb_obj\u001b[0m\u001b[0;34m.\u001b[0m\u001b[0mget\u001b[0m\u001b[0;34m(\u001b[0m\u001b[0;34m'value'\u001b[0m\u001b[0;34m)\u001b[0m\u001b[0;34m\u001b[0m\u001b[0m\n",
      "\u001b[0;31mNameError\u001b[0m: name 'CustomJS' is not defined"
     ]
    }
   ],
   "source": [
    "#see here: http://bokeh.pydata.org/en/latest/docs/user_guide/interaction.html\n",
    "from bokeh.io import vform\n",
    "from bokeh.models import CustomJS, ColumnDataSource, Slider\n",
    "from bokeh.plotting import figure, output_file, show\n",
    "\n",
    "output_file(\"callback.html\")\n",
    "\n",
    "x = [x*0.005 for x in range(0, 200)]\n",
    "y = x\n",
    "\n",
    "source = ColumnDataSource(data=dict(x=x, y=y))\n",
    "\n",
    "plot = figure(plot_width=400, plot_height=400)\n",
    "plot.line('x', 'y', source=source, line_width=3, line_alpha=0.6)\n",
    "\n",
    "callback = CustomJS(args=dict(source=source), code=\"\"\"\n",
    "        var data = source.get('data');\n",
    "        var f = cb_obj.get('value')\n",
    "        x = data['x']\n",
    "        y = data['y']\n",
    "        for (i = 0; i < x.length; i++) {\n",
    "            y[i] = Math.pow(x[i], f)\n",
    "        }\n",
    "        source.trigger('change');\n",
    "    \"\"\")\n",
    "\n",
    "slider = Slider(start=0.1, end=4, value=1, step=.1, title=\"power\", callback=callback)\n",
    "\n",
    "layout = vform(slider, plot)\n",
    "\n",
    "show(layout)"
   ]
  },
  {
   "cell_type": "code",
   "execution_count": 7,
   "metadata": {
    "collapsed": false
   },
   "outputs": [
    {
     "ename": "ImportError",
     "evalue": "No module named callbacks",
     "output_type": "error",
     "traceback": [
      "\u001b[0;31m---------------------------------------------------------------------------\u001b[0m",
      "\u001b[0;31mImportError\u001b[0m                               Traceback (most recent call last)",
      "\u001b[0;32m<ipython-input-7-51d67b5d05e7>\u001b[0m in \u001b[0;36m<module>\u001b[0;34m()\u001b[0m\n\u001b[0;32m----> 1\u001b[0;31m \u001b[0;32mfrom\u001b[0m \u001b[0mbokeh\u001b[0m\u001b[0;34m.\u001b[0m\u001b[0mmodels\u001b[0m\u001b[0;34m.\u001b[0m\u001b[0mcallbacks\u001b[0m \u001b[0;32mimport\u001b[0m \u001b[0mCustomJS\u001b[0m\u001b[0;34m\u001b[0m\u001b[0m\n\u001b[0m",
      "\u001b[0;31mImportError\u001b[0m: No module named callbacks"
     ]
    }
   ],
   "source": [
    "from bokeh.models.callbacks import CustomJS"
   ]
  },
  {
   "cell_type": "code",
   "execution_count": null,
   "metadata": {
    "collapsed": true
   },
   "outputs": [],
   "source": []
  }
 ],
 "metadata": {
  "kernelspec": {
   "display_name": "Python 2",
   "language": "python",
   "name": "python2"
  },
  "language_info": {
   "codemirror_mode": {
    "name": "ipython",
    "version": 2
   },
   "file_extension": ".py",
   "mimetype": "text/x-python",
   "name": "python",
   "nbconvert_exporter": "python",
   "pygments_lexer": "ipython2",
   "version": "2.7.10"
  }
 },
 "nbformat": 4,
 "nbformat_minor": 0
}
